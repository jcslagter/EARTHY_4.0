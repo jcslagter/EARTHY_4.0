{
 "cells": [
  {
   "cell_type": "markdown",
   "metadata": {},
   "source": [
    "# setting up "
   ]
  },
  {
   "cell_type": "code",
   "execution_count": 386,
   "metadata": {},
   "outputs": [],
   "source": [
    "import numpy as np\n",
    "import topogenesis as tg\n",
    "import matplotlib.pyplot as plt\n",
    "import matplotlib\n",
    "import random\n"
   ]
  },
  {
   "cell_type": "markdown",
   "metadata": {},
   "source": [
    "creating grid"
   ]
  },
  {
   "cell_type": "code",
   "execution_count": 387,
   "metadata": {},
   "outputs": [],
   "source": [
    "def room(width,length):\n",
    "    array = np.ones((width, length), dtype=int)\n",
    "    point = (width, length, 1)\n",
    "    return array, point\n"
   ]
  },
  {
   "cell_type": "code",
   "execution_count": 388,
   "metadata": {},
   "outputs": [],
   "source": [
    "def plot(_x_):\n",
    "\n",
    "    x = np.arange(0,(32+1),2)\n",
    "    y = np.arange(0,(32+1),2)\n",
    "\n",
    "\n",
    "    plt.figure(figsize=(5,5))\n",
    "    plt.xticks(x)\n",
    "    plt.yticks(y)\n",
    "    plt.plot(x, y, )\n",
    "    plt.title('Our_Layout')\n",
    "    plt.imshow(_x_)\n",
    "    plt.colorbar()\n",
    "    plt.gca().invert_yaxis()\n",
    "\n",
    "    plt.grid(True)\n",
    "    plt.rc('grid', linestyle=\"-\", color='black')\n",
    "    plt.draw()\n",
    "    plt.show()\n",
    "\n"
   ]
  },
  {
   "cell_type": "markdown",
   "metadata": {},
   "source": [
    "# start of script"
   ]
  },
  {
   "cell_type": "code",
   "execution_count": 389,
   "metadata": {},
   "outputs": [],
   "source": [
    "##script grid\n",
    "data = np.zeros((32 ,32, 1), dtype=int)\n"
   ]
  },
  {
   "cell_type": "code",
   "execution_count": 390,
   "metadata": {},
   "outputs": [
    {
     "data": {
      "image/png": "[encoded data removed]",
      "text/plain": [
       "<Figure size 360x360 with 2 Axes>"
      ]
     },
     "metadata": {
      "needs_background": "light"
     },
     "output_type": "display_data"
    }
   ],
   "source": [
    "##script entree placement\n",
    "#temporary grid array\n",
    "datatemp = np.zeros((32 ,32, 1), dtype=int)\n",
    "\n",
    "#creating the room\n",
    "entree = room (5,5)\n",
    "entree_array = entree[0]\n",
    "entree_point = entree[1]\n",
    "\n",
    "#setting placement area of entry hall to N/S road (not in 5 gridcells from origin)\n",
    "datatemp[5::,0]=1\n",
    "datatemp[0,5::]=1\n",
    "\n",
    "\n",
    "#finding indexes of the road\n",
    "xy_data = np.argwhere(datatemp)[:,:]\n",
    "x_data = (xy_data)[:,1]\n",
    "y_data = (xy_data)[:,0]\n",
    "\n",
    "indexes_entry= []\n",
    "\n",
    "for i in range(len(xy_data)):\n",
    "    datatemp_2 = np.zeros((32 ,32, 1), dtype=int)\n",
    "    datatemp_2[x_data[i]:x_data[i] + entree_point[0], y_data[i]:y_data[i] + entree_point[1]] = 1\n",
    "    xcheck=np.sum(datatemp_2[0:5,0])\n",
    "    ycheck=np.sum(datatemp_2[0,0:5])\n",
    "    if xcheck + ycheck == 0:\n",
    "        if np.sum(datatemp_2) == entree_point[0] * entree_point[1]:\n",
    "            indexes_entry.append(i)\n",
    "    else:\n",
    "        pass\n",
    "\n",
    "random.shuffle(indexes_entry)\n",
    "index_i = 0\n",
    "i = indexes_entry[index_i]\n",
    "data_entry = np.zeros((32,32,1), dtype=int)\n",
    "data_entry[x_data[i]:x_data[i] + entree_point[0], y_data[i]:y_data[i] + entree_point[1]] = 1\n",
    "\n",
    "plot(data_entry)\n"
   ]
  },
  {
   "cell_type": "code",
   "execution_count": 391,
   "metadata": {},
   "outputs": [],
   "source": [
    "\n",
    "##script theater placement\n",
    "#creating the room\n",
    "theater = room (8,16)\n",
    "theater_array = theater[0]\n",
    "theater_point = theater[1]\n",
    "\n",
    "#setup lattice and stencil\n",
    "lattice_1 = tg.to_lattice(data_entry, minbound=[0,0,0])\n",
    "stencil_1 = tg.create_stencil(\"von_neumann\", 1, 1)\n",
    "stencil_1.function =tg.sfunc.sum\n",
    "\n",
    "#set middle to zero\n",
    "# stencil_1[1,1,1]=0\n",
    "neigh = lattice_1.apply_stencil(stencil_1)\n",
    "\n",
    "#snap locations on entry hall\n",
    "xy_data_theater = np.where(neigh == 1)\n",
    "x_data_theater = xy_data_theater[0]\n",
    "y_data_theater = xy_data_theater[1]\n",
    "\n",
    "# for k in xy_data_theater[0]:\n",
    "#     x_data_theater.append(int(k))\n",
    "# y_data_theater = []\n",
    "# for k in xy_data_theater[1]:\n",
    "#     y_data_theater.append(int(i))\n",
    "\n",
    "#offset area\n",
    "base_offset_2 = np.zeros((32,32,1), dtype=int)\n",
    "base_offset_2[0:2,::]=1\n",
    "base_offset_2[::,0:2]=1\n",
    "\n",
    "datatemp_2 = data\n",
    "indexes_theater = []\n",
    "\n",
    "\n",
    "for j in range(len(x_data_theater)):\n",
    "    datatemp_2 = np.zeros((32,32,1), dtype=int)\n",
    "    datatemp_2[x_data_theater[j]:x_data_theater[j] + theater_point[0], y_data_theater[j]:y_data_theater[j] + theater_point[1]] = 1\n",
    "    if np.amax(np.add(datatemp_2,data_entry))<= 1: #no overlap with entry\n",
    "        if np.amax(np.add(datatemp_2,base_offset_2)) <= 1: #no overlap with offset area\n",
    "            if np.sum(datatemp_2) == theater_point[0] * theater_point[1]:\n",
    "                x = np.zeros((32,32,1), dtype=int)\n",
    "                x[x_data_theater,y_data_theater] = 1\n",
    "                x2 = np.add(x,datatemp_2)\n",
    "                if (x2==2).sum() >= 2:\n",
    "                    indexes_theater.append(j)\n",
    "                    \n",
    "    else:\n",
    "        possible = False\n",
    "\n",
    "try:\n",
    "    index_j = 0\n",
    "    j = indexes_theater[index_j]\n",
    "    data_theater = data_entry\n",
    "    data_theater[x_data_theater[j]:x_data_theater[j] + theater_point[0], y_data_theater[j]:y_data_theater[j] + theater_point[1]] = 2\n",
    "    plot(data_theater)\n",
    "\n",
    "except:\n",
    "    print('no configuration possible with this placement of entry')"
   ]
  },
  {
   "cell_type": "code",
   "execution_count": 392,
   "metadata": {},
   "outputs": [
    {
     "name": "stdout",
     "output_type": "stream",
     "text": [
      "index_1\n"
     ]
    },
    {
     "data": {
      "image/png": "[encoded data removed]",
      "text/plain": [
       "<Figure size 360x360 with 2 Axes>"
      ]
     },
     "metadata": {
      "needs_background": "light"
     },
     "output_type": "display_data"
    },
    {
     "data": {
      "image/png": "[encoded data removed]",
      "text/plain": [
       "<Figure size 360x360 with 2 Axes>"
      ]
     },
     "metadata": {
      "needs_background": "light"
     },
     "output_type": "display_data"
    }
   ],
   "source": [
    "\n",
    "while len(indexes_theater) == 0:\n",
    "    print('index_1')\n",
    "    plot(data_entry)\n",
    "    \n",
    "    index_i = index_i + 1\n",
    "    i = indexes_entry[index_i]\n",
    "    data_entry = np.zeros((32,32,1), dtype=int)\n",
    "    data_entry[x_data[i]:x_data[i] + entree_point[0], y_data[i]:y_data[i] + entree_point[1]] = 1\n",
    "    \n",
    "    #create new lattice\n",
    "    lattice_1 = tg.to_lattice(data_entry, minbound=[0,0,0])\n",
    "    stencil_1 = tg.create_stencil(\"von_neumann\", 1, 1)\n",
    "    stencil_1.function =tg.sfunc.sum\n",
    "\n",
    "    #set middle to zero\n",
    "    # stencil_1[1,1,1]=0\n",
    "    neigh = lattice_1.apply_stencil(stencil_1)\n",
    "\n",
    "    #snap locations on entry hall\n",
    "    xy_data_theater = np.where(neigh == 1)\n",
    "    x_data_theater = xy_data_theater[0]\n",
    "    y_data_theater = xy_data_theater[1]\n",
    "    \n",
    "    possible = False\n",
    "\n",
    "    for j in range(len(x_data_theater)):\n",
    "        datatemp_2 = np.zeros((32,32,1), dtype=int)\n",
    "        datatemp_2[x_data_theater[j]:x_data_theater[j] + theater_point[0], y_data_theater[j]:y_data_theater[j] + theater_point[1]] = 1\n",
    "        if np.amax(np.add(datatemp_2,data_entry))<= 1: #no overlap with entry\n",
    "            if np.amax(np.add(datatemp_2,base_offset_2)) <= 1: #no overlap with offset area\n",
    "                if np.sum(datatemp_2) == theater_point[0] * theater_point[1]:\n",
    "                    x = np.zeros((32,32,1), dtype=int)\n",
    "                    x[x_data_theater,y_data_theater] = 1\n",
    "                    x2 = np.add(x,datatemp_2)\n",
    "                    if (x2==2).sum() >= 2:\n",
    "                        indexes_theater.append(j)\n",
    "                        possible = True\n",
    "                        break\n",
    "        else:\n",
    "            pass\n",
    "    \n",
    "    if possible == True:\n",
    "        break\n",
    "\n",
    "    if len(indexes_entry) == index_i:\n",
    "        break\n",
    "\n",
    "try:\n",
    "    index_j = 0\n",
    "    j = indexes_theater[index_j]\n",
    "    data_theater = data_entry\n",
    "    data_theater[x_data_theater[j]:x_data_theater[j] + theater_point[0], y_data_theater[j]:y_data_theater[j] + theater_point[1]] = 2\n",
    "    possible = True\n",
    "    plot(data_theater)\n",
    "\n",
    "    \n",
    "except:\n",
    "    print('niet mogelijk')\n"
   ]
  },
  {
   "cell_type": "code",
   "execution_count": null,
   "metadata": {},
   "outputs": [],
   "source": []
  }
 ],
 "metadata": {
  "interpreter": {
   "hash": "337b4b01e831c05575360cab65d2201a4b83c33c5823d8eee08751b43bf44c7a"
  },
  "kernelspec": {
   "display_name": "Python 3.8.5 64-bit ('earthy': conda)",
   "name": "python3"
  },
  "language_info": {
   "codemirror_mode": {
    "name": "ipython",
    "version": 3
   },
   "file_extension": ".py",
   "mimetype": "text/x-python",
   "name": "python",
   "nbconvert_exporter": "python",
   "pygments_lexer": "ipython3",
   "version": "3.8.5"
  },
  "orig_nbformat": 4
 },
 "nbformat": 4,
 "nbformat_minor": 2
}
