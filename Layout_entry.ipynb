{
 "cells": [
  {
   "cell_type": "markdown",
   "source": [
    "# setting up "
   ],
   "metadata": {}
  },
  {
   "cell_type": "code",
   "execution_count": 36,
   "source": [
    "import numpy as np\r\n",
    "import topogenesis as tg\r\n",
    "import matplotlib.pyplot as plt\r\n",
    "import matplotlib\r\n"
   ],
   "outputs": [],
   "metadata": {}
  },
  {
   "cell_type": "code",
   "execution_count": 37,
   "source": [
    "def room(width,length):\r\n",
    "    array = np.ones((width, length), dtype=int)\r\n",
    "    point = (width, length, 1)\r\n",
    "    return array, point\r\n"
   ],
   "outputs": [],
   "metadata": {}
  },
  {
   "cell_type": "code",
   "execution_count": 38,
   "source": [
    "def plot(_x_):\r\n",
    "\r\n",
    "    x = np.arange(0,(32+1),2)\r\n",
    "    y = np.arange(0,(32+1),2)\r\n",
    "\r\n",
    "\r\n",
    "    plt.figure(figsize=(5,5))\r\n",
    "    plt.xticks(x)\r\n",
    "    plt.yticks(y)\r\n",
    "    plt.plot(x, y, )\r\n",
    "    plt.title('Our_Layout')\r\n",
    "    plt.imshow(_x_)\r\n",
    "    plt.colorbar()\r\n",
    "    plt.gca().invert_yaxis()\r\n",
    "\r\n",
    "    plt.grid(True)\r\n",
    "    plt.rc('grid', linestyle=\"-\", color='black')\r\n",
    "    plt.draw()\r\n",
    "    plt.show()\r\n",
    "\r\n"
   ],
   "outputs": [],
   "metadata": {}
  },
  {
   "cell_type": "markdown",
   "source": [
    "# start of script"
   ],
   "metadata": {}
  },
  {
   "cell_type": "code",
   "execution_count": 39,
   "source": [
    "##script grid\r\n",
    "data = np.zeros((32 ,32, 1), dtype=int)"
   ],
   "outputs": [],
   "metadata": {}
  },
  {
   "cell_type": "markdown",
   "source": [
    "## ENTREE\r\n"
   ],
   "metadata": {}
  },
  {
   "cell_type": "markdown",
   "source": [
    "#### - not in 5 gridcells from origin"
   ],
   "metadata": {}
  },
  {
   "cell_type": "code",
   "execution_count": 40,
   "source": [
    "# practice script entree placement\r\n",
    "# for i in range(len(x_data)):\r\n",
    "#     datatemp_2[x_data[i]:x_data[i] + size_entree[0], y_data:y_data + size_entree[1]] = 1\r\n",
    "#     xcheck=np.sum(datatemp_2[0:5,0])\r\n",
    "#     ycheck=np.sum(datatemp_2[0,0:5])\r\n",
    "#     check= xcheck + ycheck == 0\r\n",
    "#     if check == True:\r\n",
    "#         print(i)\r\n",
    "#         break\r\n",
    "#     else:\r\n",
    "#         print('not allowed')\r\n",
    "\r\n",
    "# i = 0\r\n",
    "# while ((np.sum(datatemp[0:5,0]))+(np.sum(datatemp[0,0:5]))) != 0:\r\n",
    "#     datatemp_2 = np.zeros((32 ,32, 1), dtype=int)\r\n",
    "#     datatemp_2[x_data[i]:x_data[i] + size_entree[0], y_data:y_data + size_entree[1]] = 1\r\n",
    "#     i = i + 1\r\n",
    "#     if i == len(x_data):\r\n",
    "#         break\r\n",
    "\r\n",
    "# data[x_data[i]:x_data[i] + size_entree[0], y_data:y_data + size_entree[1]] = 1\r\n",
    "\r\n",
    "\r\n",
    "# # defining where entry can be inserted\r\n",
    "# for i in (x_data):\r\n",
    "#     data[x_data[i]:x_data[i] + size_entree[0], y_data:y_data + size_entree[1]] = 1\r\n",
    "#     xcheck=np.sum(data[0:5,0])\r\n",
    "#     ycheck=np.sum(data[0,0:5])\r\n",
    "#     check= xcheck + ycheck == 0\r\n",
    "#     if check == True:\r\n",
    "#         print(1)\r\n",
    "#         break\r\n",
    "#     else:\r\n",
    "#         pass\r\n",
    "# \r\n",
    "# \r\n",
    "# \r\n",
    "# \r\n",
    "# i = 0\r\n",
    "# while i != len(x_data):\r\n",
    "#     data[x_data[i]:x_data[i] + size_entree[0], y_data:y_data + size_entree[1]] = 1\r\n",
    "#     if xcheck + ycheck == 0:\r\n",
    "#         break\r\n",
    "#     else:\r\n",
    "#         i = i + 1"
   ],
   "outputs": [],
   "metadata": {}
  },
  {
   "cell_type": "code",
   "execution_count": 41,
   "source": [
    "##script entree placement\r\n",
    "#temporary grid array\r\n",
    "datatemp = np.zeros((32 ,32, 1), dtype=int)\r\n",
    "\r\n",
    "#creating the room\r\n",
    "entree = room (5,5)\r\n",
    "entree_array = entree[0]\r\n",
    "entree_point = entree[1]\r\n",
    "\r\n",
    "#setting placement area of entry hall to N/S road (not in 5 gridcells from origin)\r\n",
    "datatemp[5::,0]=1\r\n",
    "datatemp[0,5::]=1\r\n",
    "\r\n",
    "\r\n",
    "\r\n",
    "#finding indexes of the road\r\n",
    "xy_data = np.argwhere(datatemp)[:,:]\r\n",
    "x_data = (xy_data)[:,1]\r\n",
    "y_data = (xy_data)[:,0]\r\n",
    "\r\n",
    "indexes= []\r\n",
    "\r\n",
    "for i in range(len(xy_data)):\r\n",
    "    datatemp_2 = np.zeros((32 ,32, 1), dtype=int)\r\n",
    "    datatemp_2[x_data[i]:x_data[i] + entree_point[0], y_data[i]:y_data[i] + entree_point[1]] = 1\r\n",
    "    xcheck=np.sum(datatemp_2[0:5,0])\r\n",
    "    ycheck=np.sum(datatemp_2[0,0:5])\r\n",
    "    if xcheck + ycheck == 0:\r\n",
    "        if np.sum(datatemp_2) == entree_point[0] * entree_point[1]:\r\n",
    "            indexes.append(i)\r\n",
    "    else:\r\n",
    "        pass\r\n",
    "\r\n",
    "i = np.random.choice(indexes)\r\n",
    "data[x_data[i]:x_data[i] + entree_point[0], y_data[i]:y_data[i] + entree_point[1]] = 1\r\n",
    "\r\n",
    "\r\n",
    "plot(data)\r\n"
   ],
   "outputs": [
    {
     "output_type": "display_data",
     "data": {
      "image/png": "[encoded data removed]",
      "text/plain": [
       "<Figure size 360x360 with 2 Axes>"
      ]
     },
     "metadata": {
      "needs_background": "light"
     }
    }
   ],
   "metadata": {}
  }
 ],
 "metadata": {
  "orig_nbformat": 4,
  "language_info": {
   "name": "python",
   "version": "3.8.5",
   "mimetype": "text/x-python",
   "codemirror_mode": {
    "name": "ipython",
    "version": 3
   },
   "pygments_lexer": "ipython3",
   "nbconvert_exporter": "python",
   "file_extension": ".py"
  },
  "kernelspec": {
   "name": "python3",
   "display_name": "Python 3.8.5 64-bit ('earthy': conda)"
  },
  "interpreter": {
   "hash": "337b4b01e831c05575360cab65d2201a4b83c33c5823d8eee08751b43bf44c7a"
  }
 },
 "nbformat": 4,
 "nbformat_minor": 2
}